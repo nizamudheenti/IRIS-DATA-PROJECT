{
 "cells": [
  {
   "cell_type": "code",
   "execution_count": 2,
   "metadata": {},
   "outputs": [
    {
     "name": "stdout",
     "output_type": "stream",
     "text": [
      "      Open\n",
      "0  0.04951\n",
      "1  0.04951\n",
      "2  0.08584\n",
      "3  0.08080\n",
      "4  0.07474\n"
     ]
    },
    {
     "ename": "ModuleNotFoundError",
     "evalue": "No module named 'keras'",
     "output_type": "error",
     "traceback": [
      "\u001b[1;31m---------------------------------------------------------------------------\u001b[0m",
      "\u001b[1;31mModuleNotFoundError\u001b[0m                       Traceback (most recent call last)",
      "\u001b[1;32m<ipython-input-2-6974d5f2f914>\u001b[0m in \u001b[0;36m<module>\u001b[1;34m\u001b[0m\n\u001b[0;32m     26\u001b[0m \u001b[1;31m#importing keras and its packages\u001b[0m\u001b[1;33m\u001b[0m\u001b[1;33m\u001b[0m\u001b[1;33m\u001b[0m\u001b[0m\n\u001b[0;32m     27\u001b[0m \u001b[1;33m\u001b[0m\u001b[0m\n\u001b[1;32m---> 28\u001b[1;33m \u001b[1;32mfrom\u001b[0m \u001b[0mkeras\u001b[0m\u001b[1;33m.\u001b[0m\u001b[0mmodels\u001b[0m \u001b[1;32mimport\u001b[0m \u001b[0mSequential\u001b[0m\u001b[1;33m\u001b[0m\u001b[1;33m\u001b[0m\u001b[0m\n\u001b[0m\u001b[0;32m     29\u001b[0m \u001b[1;32mfrom\u001b[0m \u001b[0mkeras\u001b[0m\u001b[1;33m.\u001b[0m\u001b[0mlayers\u001b[0m \u001b[1;32mimport\u001b[0m \u001b[0mDense\u001b[0m\u001b[1;33m\u001b[0m\u001b[1;33m\u001b[0m\u001b[0m\n\u001b[0;32m     30\u001b[0m \u001b[1;32mfrom\u001b[0m \u001b[0mkeras\u001b[0m\u001b[1;33m.\u001b[0m\u001b[0mlayers\u001b[0m \u001b[1;32mimport\u001b[0m \u001b[0mLSTM\u001b[0m\u001b[1;33m\u001b[0m\u001b[1;33m\u001b[0m\u001b[0m\n",
      "\u001b[1;31mModuleNotFoundError\u001b[0m: No module named 'keras'"
     ]
    }
   ],
   "source": [
    "#Importing libraries\n",
    "\n",
    "import numpy as np\n",
    "import pandas as pd\n",
    "import matplotlib.pyplot as plt\n",
    "\n",
    "\n",
    "training_set=pd.read_csv('BTC-USD.csv')  \n",
    "\n",
    "training_set1=training_set.iloc[:,1:2]        #selecting the second column\n",
    "print(training_set1.head())                   #print first five rows\n",
    "training_set1=training_set1.values            #converting to 2d array\n",
    "training_set1                                 #print the whole data\n",
    "\n",
    "#Scaling the data\n",
    "\n",
    "from sklearn.preprocessing import MinMaxScaler\n",
    "sc = MinMaxScaler()                           #scaling using normalisation \n",
    "training_set1 = sc.fit_transform(training_set1)\n",
    "xtrain=training_set1[0:2694]               #input values of rows [0-2694\n",
    "ytrain=training_set1[1:2695]               #input values of rows [1-2695]\n",
    "\n",
    "\n",
    "xtrain = np.reshape(xtrain, (2694, 1, 1))     #Reshaping into required shape for Keras\n",
    "\n",
    "#importing keras and its packages\n",
    "\n",
    "from keras.models import Sequential\n",
    "from keras.layers import Dense\n",
    "from keras.layers import LSTM\n",
    "\n",
    "\n",
    "regressor=Sequential()                                                      #initialize the RNN\n",
    "\n",
    "regressor.add(LSTM(units=4,activation='sigmoid',input_shape=(None,1)))      #adding input layerand the LSTM layer \n",
    "\n",
    "regressor.add(Dense(units=1))                                               #adding output layers\n",
    "\n",
    "regressor.compile(optimizer='adam',loss='mean_squared_error')               #compiling the RNN\n",
    "\n",
    "regressor.fit(xtrain,ytrain,batch_size=32,epochs=20)                      #fitting the RNN to the training set  \n",
    "\n",
    "# Reading CSV file into test set\n",
    "test_set = pd.read_csv('BTCtest.csv')\n",
    "test_set.head()\n",
    "\n",
    "\n",
    "real_stock_price = test_set.iloc[:,1:2]      #selecting the second column\n",
    "real_stock_price = real_stock_price.values      #converting to 2D array\n",
    "\n",
    "#getting the predicted BTC value of the first week of Dec 2017  \n",
    "inputs = real_stock_price\t\t\toi\n",
    "inputs = sc.transform(inputs)\n",
    "inputs = np.reshape(inputs, (8, 1, 1))\n",
    "predicted_stock_price = regressor.predict(inputs)\n",
    "predicted_stock_price = sc.inverse_transform(predicted_stock_price)\n",
    "\n",
    "\n",
    "plt.plot(real_stock_price, color = 'green', label = 'Current BTC Value')\n",
    "plt.plot(predicted_stock_price, color = 'red', label = 'Predicted BTC Value')\n",
    "plt.title('BTC Value Prediction')\n",
    "plt.xlabel('Days')\n",
    "plt.ylabel('BTC Value')\n",
    "plt.legend()\n",
    "plt.show()\n"
   ]
  },
  {
   "cell_type": "code",
   "execution_count": null,
   "metadata": {},
   "outputs": [],
   "source": []
  }
 ],
 "metadata": {
  "kernelspec": {
   "display_name": "Python 3",
   "language": "python",
   "name": "python3"
  },
  "language_info": {
   "codemirror_mode": {
    "name": "ipython",
    "version": 3
   },
   "file_extension": ".py",
   "mimetype": "text/x-python",
   "name": "python",
   "nbconvert_exporter": "python",
   "pygments_lexer": "ipython3",
   "version": "3.7.3"
  }
 },
 "nbformat": 4,
 "nbformat_minor": 4
}
